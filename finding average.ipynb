{
  "nbformat": 4,
  "nbformat_minor": 0,
  "metadata": {
    "colab": {
      "name": "Project2 Pt.A Q.3.ipynb",
      "provenance": [],
      "collapsed_sections": [],
      "authorship_tag": "ABX9TyMO4C9V6fsEIO+I5kb05Ehv",
      "include_colab_link": true
    },
    "kernelspec": {
      "name": "python3",
      "display_name": "Python 3"
    },
    "language_info": {
      "name": "python"
    }
  },
  "cells": [
    {
      "cell_type": "markdown",
      "metadata": {
        "id": "view-in-github",
        "colab_type": "text"
      },
      "source": [
        "<a href=\"https://colab.research.google.com/github/helennzhangg/python-basics/blob/main/Project2_Pt_A_Q_3.ipynb\" target=\"_parent\"><img src=\"https://colab.research.google.com/assets/colab-badge.svg\" alt=\"Open In Colab\"/></a>"
      ]
    },
    {
      "cell_type": "code",
      "execution_count": null,
      "metadata": {
        "id": "4594cjCrxv9L"
      },
      "outputs": [],
      "source": [
        "#program 3"
      ]
    },
    {
      "cell_type": "code",
      "source": [
        "def introduction():\n",
        "  #printing the introduction. I did several print statements so the user can clearly see the introduction \n",
        "  print('This is the first output of my first program, Helen Zhang')\n",
        "  print('')\n",
        "  print('this function will ask the user to call 3 numbers. With those 3 numbers, this program will find the average and compare each')\n",
        "  print('input number into the average. This program will run 10 times so user will have to enter 3 numbers 10 times. Finally, the function')\n",
        "  print('will end when the function returns to the main function.')"
      ],
      "metadata": {
        "id": "WNz0fD6-x0WE"
      },
      "execution_count": null,
      "outputs": []
    },
    {
      "cell_type": "code",
      "source": [
        "def findaverage(b,c,d):\n",
        "  #this function will find the average of the three input numbers using the sum and then the number of inputs \n",
        "  return sum([b,c,d]) / len([b,c,d])"
      ],
      "metadata": {
        "id": "U1uBJt1Slxqj"
      },
      "execution_count": null,
      "outputs": []
    },
    {
      "cell_type": "code",
      "source": [
        "def comparetoavg(b,c,d,z):\n",
        "  #used to find out how many of the three input numbers are equal to average \n",
        "  total = 0\n",
        "\n",
        "  #using if statements to compare the numbers to the average \n",
        "  for x in [b,c,d]:\n",
        "    if x == z:\n",
        "      print(f'{x} is equal to average')\n",
        "      total += 1\n",
        "    elif x > z:\n",
        "      print(f'{x} is above the average')\n",
        "    else:\n",
        "      print(f'{x} is below the average')\n",
        "  print(f'{total} values equal to the average')\n",
        "\n",
        "  print()\n",
        "  print()\n"
      ],
      "metadata": {
        "id": "utbirKbg3Z7v"
      },
      "execution_count": null,
      "outputs": []
    },
    {
      "cell_type": "code",
      "source": [
        "def main():\n",
        "  introduction()\n",
        "  \n",
        "  for multi in range(10):\n",
        "    #user will input numbers which will be parameters for the functions \n",
        "    num1 = int(input('Enter num1  '))\n",
        "    num2 = int(input('Enter num2: '))\n",
        "    num3 = int(input('Enter num3: '))\n",
        "\n",
        "    print(f'The original 3 integers are {num1}, {num2}, {num3}')\n",
        "\n",
        "    avg = findaverage(num1,num2,num3)\n",
        "    print(f'The average is {avg}')\n",
        "\n",
        "    compare = comparetoavg(num1,num2,num3, avg)\n",
        "    #conclude the code, this program ran 10 times like instructed in the introduction\n",
        "    print('this program ran 10 times')\n",
        "main()\n"
      ],
      "metadata": {
        "id": "vuDljVpByJMt"
      },
      "execution_count": null,
      "outputs": []
    }
  ]
}
