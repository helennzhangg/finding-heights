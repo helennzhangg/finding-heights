{
  "nbformat": 4,
  "nbformat_minor": 0,
  "metadata": {
    "colab": {
      "name": "Project2 Pt.A .ipynb",
      "provenance": [],
      "collapsed_sections": [],
      "authorship_tag": "ABX9TyMEtnnC7V1iUDhHIKBMcBKK",
      "include_colab_link": true
    },
    "kernelspec": {
      "name": "python3",
      "display_name": "Python 3"
    },
    "language_info": {
      "name": "python"
    }
  },
  "cells": [
    {
      "cell_type": "markdown",
      "metadata": {
        "id": "view-in-github",
        "colab_type": "text"
      },
      "source": [
        "<a href=\"https://colab.research.google.com/github/helennzhangg/python-basics/blob/main/Project2_Pt_A_.ipynb\" target=\"_parent\"><img src=\"https://colab.research.google.com/assets/colab-badge.svg\" alt=\"Open In Colab\"/></a>"
      ]
    },
    {
      "cell_type": "code",
      "execution_count": null,
      "metadata": {
        "id": "N-Pg-yA8AfTI"
      },
      "outputs": [],
      "source": [
        "#Helen Zhang \n",
        "#CIS 3120 \n",
        "#Project 2 Part 1"
      ]
    },
    {
      "cell_type": "code",
      "source": [
        "#PROGRAM 1"
      ],
      "metadata": {
        "id": "OXtWP3wryWUA"
      },
      "execution_count": null,
      "outputs": []
    },
    {
      "cell_type": "code",
      "source": [
        "print('This is the first output of my first program, Helen Zhang')"
      ],
      "metadata": {
        "id": "MvaF_sDwupXp",
        "colab": {
          "base_uri": "https://localhost:8080/"
        },
        "outputId": "ec4e7af1-3994-4907-958c-c2b37751952c"
      },
      "execution_count": null,
      "outputs": [
        {
          "output_type": "stream",
          "name": "stdout",
          "text": [
            "This is the first output of my first program, Helen Zhang\n"
          ]
        }
      ]
    },
    {
      "cell_type": "code",
      "source": [
        "import math\n",
        "#create empty list for x values \n",
        "x_values = []\n",
        "y_values = []\n",
        "\n",
        "#generate a range of values for x from -3 to 4.0 in increments of 0.5 \n",
        "x = 4.0\n",
        "\n",
        "while x >= -3:\n",
        "\n",
        "  x_values.append(x)\n",
        "\n",
        "  #seperating the numerator and denominator of the function \n",
        "  numerator = 4 * x**3 - 12 * x**2 - 9 * x + 27\n",
        "  #print(f' x = {x} ; y = {numerator}')\n",
        "  denominator = math.sqrt(5 * x**2 + 2) + 3 * abs(x - 2.5)\n",
        "  #print(f' x = {x} ; y = {denominator}')\n",
        "\n",
        "  y = numerator / denominator\n",
        "  y_values.append(y)\n",
        "  #print(f' x = {x} ; y = {y}')\n",
        "\n",
        "  if y == 0:\n",
        "    print(f' x = {x} ; y = {y} ; Y IS ZERO')\n",
        "  elif y >0:\n",
        "    print(f' x = {x} ; y = {y} ; Y IS POSITIVE')\n",
        "  else:\n",
        "    print(f' x = {x} ; y = {y} ; Y IS NEGATIVE')\n",
        "\n",
        "  x = x - 0.5"
      ],
      "metadata": {
        "id": "0AlwRydaDhsY",
        "colab": {
          "base_uri": "https://localhost:8080/"
        },
        "outputId": "c327d44f-5a35-4efa-a522-4c6d2443d66f"
      },
      "execution_count": null,
      "outputs": [
        {
          "output_type": "stream",
          "name": "stdout",
          "text": [
            " x = 4.0 ; y = 4.057428058260047 ; Y IS POSITIVE\n",
            " x = 3.5 ; y = 1.8259859392786852 ; Y IS POSITIVE\n",
            " x = 3.0 ; y = 0.0 ; Y IS ZERO\n",
            " x = 2.5 ; y = -1.387375951238592 ; Y IS NEGATIVE\n",
            " x = 2.0 ; y = -1.1307802693045066 ; Y IS NEGATIVE\n",
            " x = 1.5 ; y = 0.0 ; Y IS ZERO\n",
            " x = 1.0 ; y = 1.399432972781441 ; Y IS POSITIVE\n",
            " x = 0.5 ; y = 2.563190450240003 ; Y IS POSITIVE\n",
            " x = 0.0 ; y = 3.0288706694179983 ; Y IS POSITIVE\n",
            " x = -0.5 ; y = 2.5919264584373525 ; Y IS POSITIVE\n",
            " x = -1.0 ; y = 1.5214041043942683 ; Y IS POSITIVE\n",
            " x = -1.5 ; y = 0.0 ; Y IS ZERO\n",
            " x = -2.0 ; y = -1.9240901616610293 ; Y IS NEGATIVE\n",
            " x = -2.5 ; y = -4.2376388309490745 ; Y IS NEGATIVE\n",
            " x = -3.0 ; y = -6.9362217746283275 ; Y IS NEGATIVE\n"
          ]
        }
      ]
    },
    {
      "cell_type": "code",
      "source": [
        "print('Program #1 is complete')"
      ],
      "metadata": {
        "id": "pI7cBz5QNSSi",
        "colab": {
          "base_uri": "https://localhost:8080/"
        },
        "outputId": "f4b00be2-8ff8-422b-f185-e463bd675115"
      },
      "execution_count": null,
      "outputs": [
        {
          "output_type": "stream",
          "name": "stdout",
          "text": [
            "Program #1 is complete\n"
          ]
        }
      ]
    },
    {
      "cell_type": "code",
      "source": [
        "#PROGRAM 2"
      ],
      "metadata": {
        "id": "Y38onIWHyaBz"
      },
      "execution_count": null,
      "outputs": []
    },
    {
      "cell_type": "code",
      "execution_count": null,
      "metadata": {
        "id": "QSIMwKAs6JHc",
        "colab": {
          "base_uri": "https://localhost:8080/"
        },
        "outputId": "a28afea2-e2c9-4b0e-a90f-97d059a4f002"
      },
      "outputs": [
        {
          "output_type": "stream",
          "name": "stdout",
          "text": [
            "This is the first output of my second program, Helen Zhang\n"
          ]
        }
      ],
      "source": [
        "print('This is the first output of my second program, Helen Zhang')"
      ]
    },
    {
      "cell_type": "code",
      "source": [
        "#step 1\n",
        "#creating a list of teams, wins, losses, ties\n",
        "id = [9867, 1234, 6213, 1231, 8821, 1131, 7761, 6831, 3131, 3132, 8424, 4211]\n",
        "wins = [4,7,9,12,2,8,10,0,16,0,0,4]\n",
        "losses = [2,5,7,2,7,0,3,16,0,0,0,4]\n",
        "ties = [3,2,0,2,7,8,3,0,0,16,0,4]\n",
        "\n",
        "#printing the data \n",
        "#code reference: https://www.geeksforgeeks.org/print-lists-in-python-4-different-ways/\n",
        "for x in range(len(id)):\n",
        "  idinprint = id[x]\n",
        "  winsinprint = wins[x]\n",
        "  lossesinprint = losses[x]\n",
        "  tiesinprint = ties[x]\n",
        "  print(f'THIS IS A COMPLETE SET OF OUTPUT FOR TEAM {idinprint}:')\n",
        "  print(f'{winsinprint} wins    {lossesinprint} losses    {tiesinprint} ties')\n",
        "#step 2\n",
        "#creating formulas to add wins and losses\n",
        "  totalgames = winsinprint + lossesinprint + tiesinprint\n",
        "  #combinedlist = zip(wins,losses)\n",
        "  #totalgames = [x + y for (x,y) in combinedlist]\n",
        "  remaininggames = 16 - totalgames \n",
        "  print(f'total games played is {totalgames}          {remaininggames} games still remaining')\n",
        "\n",
        "#step 3\n",
        "#calculating winning average\n",
        "  averagewinnings = winsinprint / totalgames if totalgames != 0 else 0\n",
        "  rounded = round(averagewinnings, 4)\n",
        "  print(f'the winning average is {rounded}')\n",
        "#step 4\n",
        "#compare the number of games tied to number of games won\n",
        "  if tiesinprint <= winsinprint:\n",
        "    print(f'number of tied games is not greater than or equal to number won')\n",
        "  elif tiesinprint >= winsinprint:\n",
        "    print(f'number of tied games is greater than or equal to number won')\n",
        "  if tiesinprint > lossesinprint:\n",
        "    print(f'number of tied games is greater than number lost')\n",
        "  elif tiesinprint < lossesinprint:\n",
        "    print(f'number of tied games is not greater than number lost')\n",
        "#step 5\n",
        "  wiptotal = winsinprint + tiesinprint - (3 * lossesinprint)\n",
        "  print(f'the wip total is {wiptotal}')\n",
        "\n",
        "  print('')\n",
        "  print('')\n",
        "  \n",
        "totalteams = len(id)\n",
        "print(f'there are {totalteams} teams in total')"
      ],
      "metadata": {
        "id": "3QB_r9c26OMJ",
        "colab": {
          "base_uri": "https://localhost:8080/"
        },
        "outputId": "a9d3c6e8-07bf-4061-dbc4-9a1ca125c5c2"
      },
      "execution_count": null,
      "outputs": [
        {
          "output_type": "stream",
          "name": "stdout",
          "text": [
            "THIS IS A COMPLETE SET OF OUTPUT FOR TEAM 9867:\n",
            "4 wins    2 losses    3 ties\n",
            "total games played is 9          7 games still remaining\n",
            "the winning average is 0.4444\n",
            "number of tied games is not greater than or equal to number won\n",
            "number of tied games is greater than number lost\n",
            "the wip total is 1\n",
            "\n",
            "\n",
            "THIS IS A COMPLETE SET OF OUTPUT FOR TEAM 1234:\n",
            "7 wins    5 losses    2 ties\n",
            "total games played is 14          2 games still remaining\n",
            "the winning average is 0.5\n",
            "number of tied games is not greater than or equal to number won\n",
            "number of tied games is not greater than number lost\n",
            "the wip total is -6\n",
            "\n",
            "\n",
            "THIS IS A COMPLETE SET OF OUTPUT FOR TEAM 6213:\n",
            "9 wins    7 losses    0 ties\n",
            "total games played is 16          0 games still remaining\n",
            "the winning average is 0.5625\n",
            "number of tied games is not greater than or equal to number won\n",
            "number of tied games is not greater than number lost\n",
            "the wip total is -12\n",
            "\n",
            "\n",
            "THIS IS A COMPLETE SET OF OUTPUT FOR TEAM 1231:\n",
            "12 wins    2 losses    2 ties\n",
            "total games played is 16          0 games still remaining\n",
            "the winning average is 0.75\n",
            "number of tied games is not greater than or equal to number won\n",
            "the wip total is 8\n",
            "\n",
            "\n",
            "THIS IS A COMPLETE SET OF OUTPUT FOR TEAM 8821:\n",
            "2 wins    7 losses    7 ties\n",
            "total games played is 16          0 games still remaining\n",
            "the winning average is 0.125\n",
            "number of tied games is greater than or equal to number won\n",
            "the wip total is -12\n",
            "\n",
            "\n",
            "THIS IS A COMPLETE SET OF OUTPUT FOR TEAM 1131:\n",
            "8 wins    0 losses    8 ties\n",
            "total games played is 16          0 games still remaining\n",
            "the winning average is 0.5\n",
            "number of tied games is not greater than or equal to number won\n",
            "number of tied games is greater than number lost\n",
            "the wip total is 16\n",
            "\n",
            "\n",
            "THIS IS A COMPLETE SET OF OUTPUT FOR TEAM 7761:\n",
            "10 wins    3 losses    3 ties\n",
            "total games played is 16          0 games still remaining\n",
            "the winning average is 0.625\n",
            "number of tied games is not greater than or equal to number won\n",
            "the wip total is 4\n",
            "\n",
            "\n",
            "THIS IS A COMPLETE SET OF OUTPUT FOR TEAM 6831:\n",
            "0 wins    16 losses    0 ties\n",
            "total games played is 16          0 games still remaining\n",
            "the winning average is 0.0\n",
            "number of tied games is not greater than or equal to number won\n",
            "number of tied games is not greater than number lost\n",
            "the wip total is -48\n",
            "\n",
            "\n",
            "THIS IS A COMPLETE SET OF OUTPUT FOR TEAM 3131:\n",
            "16 wins    0 losses    0 ties\n",
            "total games played is 16          0 games still remaining\n",
            "the winning average is 1.0\n",
            "number of tied games is not greater than or equal to number won\n",
            "the wip total is 16\n",
            "\n",
            "\n",
            "THIS IS A COMPLETE SET OF OUTPUT FOR TEAM 3132:\n",
            "0 wins    0 losses    16 ties\n",
            "total games played is 16          0 games still remaining\n",
            "the winning average is 0.0\n",
            "number of tied games is greater than or equal to number won\n",
            "number of tied games is greater than number lost\n",
            "the wip total is 16\n",
            "\n",
            "\n",
            "THIS IS A COMPLETE SET OF OUTPUT FOR TEAM 8424:\n",
            "0 wins    0 losses    0 ties\n",
            "total games played is 0          16 games still remaining\n",
            "the winning average is 0\n",
            "number of tied games is not greater than or equal to number won\n",
            "the wip total is 0\n",
            "\n",
            "\n",
            "THIS IS A COMPLETE SET OF OUTPUT FOR TEAM 4211:\n",
            "4 wins    4 losses    4 ties\n",
            "total games played is 12          4 games still remaining\n",
            "the winning average is 0.3333\n",
            "number of tied games is not greater than or equal to number won\n",
            "the wip total is -4\n",
            "\n",
            "\n",
            "there are 12 teams in total\n"
          ]
        }
      ]
    },
    {
      "cell_type": "code",
      "execution_count": null,
      "metadata": {
        "id": "4594cjCrxv9L"
      },
      "outputs": [],
      "source": [
        "#PROGRAM 3"
      ]
    },
    {
      "cell_type": "code",
      "source": [
        "def introduction():\n",
        "  #printing the introduction. I did several print statements so the user can clearly see the introduction \n",
        "  print('This is the first output of my third program, Helen Zhang')\n",
        "  print('')\n",
        "  print('this function will ask the user to call 3 numbers. With those 3 numbers, this program will find the average and compare each')\n",
        "  print('input number into the average. This program will run 10 times so user will have to enter 3 numbers 10 times. Finally, the function')\n",
        "  print('will end when the function returns to the main function.')\n",
        "  print('')\n",
        "  print('')"
      ],
      "metadata": {
        "id": "WNz0fD6-x0WE"
      },
      "execution_count": null,
      "outputs": []
    },
    {
      "cell_type": "code",
      "source": [
        "def findaverage(b,c,d):\n",
        "  #this function will find the average of the three input numbers using the sum and then the number of inputs \n",
        "  return sum([b,c,d]) / len([b,c,d])"
      ],
      "metadata": {
        "id": "U1uBJt1Slxqj"
      },
      "execution_count": null,
      "outputs": []
    },
    {
      "cell_type": "code",
      "source": [
        "def comparetoavg(b,c,d,z):\n",
        "  #used to find out how many of the three input numbers are equal to average \n",
        "  total = 0\n",
        "\n",
        "  #using if statements to compare the numbers to the average \n",
        "  for x in [b,c,d]:\n",
        "    if x == z:\n",
        "      print(f'{x} is equal to average')\n",
        "      total += 1\n",
        "    elif x > z:\n",
        "      print(f'{x} is above the average')\n",
        "    else:\n",
        "      print(f'{x} is below the average')\n",
        "  print(f'{total} values equal to the average')\n",
        "\n",
        "  print()\n",
        "  print()\n"
      ],
      "metadata": {
        "id": "utbirKbg3Z7v"
      },
      "execution_count": null,
      "outputs": []
    },
    {
      "cell_type": "code",
      "source": [
        "def main():\n",
        "  introduction()\n",
        "  \n",
        "  for multi in range(10):\n",
        "    #user will input numbers which will be parameters for the functions \n",
        "    num1 = int(input('Enter num1  '))\n",
        "    num2 = int(input('Enter num2: '))\n",
        "    num3 = int(input('Enter num3: '))\n",
        "\n",
        "    print(f'The original 3 integers are {num1}, {num2}, {num3}')\n",
        "\n",
        "    avg = findaverage(num1,num2,num3)\n",
        "    print(f'The average is {avg}')\n",
        "\n",
        "    compare = comparetoavg(num1,num2,num3, avg)\n",
        "    #conclude the code, this program ran 10 times like instructed in the introduction\n",
        "\n",
        "main()\n",
        "print('this program ran 10 times')"
      ],
      "metadata": {
        "id": "vuDljVpByJMt",
        "colab": {
          "base_uri": "https://localhost:8080/"
        },
        "outputId": "a98a723d-0394-431c-9f46-1751186e0f93"
      },
      "execution_count": null,
      "outputs": [
        {
          "output_type": "stream",
          "name": "stdout",
          "text": [
            "This is the first output of my third program, Helen Zhang\n",
            "\n",
            "this function will ask the user to call 3 numbers. With those 3 numbers, this program will find the average and compare each\n",
            "input number into the average. This program will run 10 times so user will have to enter 3 numbers 10 times. Finally, the function\n",
            "will end when the function returns to the main function.\n",
            "\n",
            "\n",
            "Enter num1  4\n",
            "Enter num2: 5\n",
            "Enter num3: 6\n",
            "The original 3 integers are 4, 5, 6\n",
            "The average is 5.0\n",
            "4 is below the average\n",
            "5 is equal to average\n",
            "6 is above the average\n",
            "1 values equal to the average\n",
            "\n",
            "\n",
            "Enter num1  6\n",
            "Enter num2: 7\n",
            "Enter num3: 8\n",
            "The original 3 integers are 6, 7, 8\n",
            "The average is 7.0\n",
            "6 is below the average\n",
            "7 is equal to average\n",
            "8 is above the average\n",
            "1 values equal to the average\n",
            "\n",
            "\n",
            "Enter num1  9\n",
            "Enter num2: 0\n",
            "Enter num3: 1\n",
            "The original 3 integers are 9, 0, 1\n",
            "The average is 3.3333333333333335\n",
            "9 is above the average\n",
            "0 is below the average\n",
            "1 is below the average\n",
            "0 values equal to the average\n",
            "\n",
            "\n",
            "Enter num1  2\n",
            "Enter num2: 3\n",
            "Enter num3: 4\n",
            "The original 3 integers are 2, 3, 4\n",
            "The average is 3.0\n",
            "2 is below the average\n",
            "3 is equal to average\n",
            "4 is above the average\n",
            "1 values equal to the average\n",
            "\n",
            "\n",
            "Enter num1  5\n",
            "Enter num2: 6\n",
            "Enter num3: 7\n",
            "The original 3 integers are 5, 6, 7\n",
            "The average is 6.0\n",
            "5 is below the average\n",
            "6 is equal to average\n",
            "7 is above the average\n",
            "1 values equal to the average\n",
            "\n",
            "\n",
            "Enter num1  3\n",
            "Enter num2: 3\n",
            "Enter num3: 3\n",
            "The original 3 integers are 3, 3, 3\n",
            "The average is 3.0\n",
            "3 is equal to average\n",
            "3 is equal to average\n",
            "3 is equal to average\n",
            "3 values equal to the average\n",
            "\n",
            "\n",
            "Enter num1  4\n",
            "Enter num2: 4\n",
            "Enter num3: 5\n",
            "The original 3 integers are 4, 4, 5\n",
            "The average is 4.333333333333333\n",
            "4 is below the average\n",
            "4 is below the average\n",
            "5 is above the average\n",
            "0 values equal to the average\n",
            "\n",
            "\n",
            "Enter num1  3\n",
            "Enter num2: 4\n",
            "Enter num3: 2\n",
            "The original 3 integers are 3, 4, 2\n",
            "The average is 3.0\n",
            "3 is equal to average\n",
            "4 is above the average\n",
            "2 is below the average\n",
            "1 values equal to the average\n",
            "\n",
            "\n",
            "Enter num1  3\n",
            "Enter num2: 4\n",
            "Enter num3: 5\n",
            "The original 3 integers are 3, 4, 5\n",
            "The average is 4.0\n",
            "3 is below the average\n",
            "4 is equal to average\n",
            "5 is above the average\n",
            "1 values equal to the average\n",
            "\n",
            "\n",
            "Enter num1  3\n",
            "Enter num2: 1\n",
            "Enter num3: 2\n",
            "The original 3 integers are 3, 1, 2\n",
            "The average is 2.0\n",
            "3 is above the average\n",
            "1 is below the average\n",
            "2 is equal to average\n",
            "1 values equal to the average\n",
            "\n",
            "\n",
            "this program ran 10 times\n"
          ]
        }
      ]
    },
    {
      "cell_type": "code",
      "source": [
        "#PROGRAM 4"
      ],
      "metadata": {
        "id": "351N_xPq84T1"
      },
      "execution_count": null,
      "outputs": []
    },
    {
      "cell_type": "code",
      "source": [
        "def introduction():\n",
        "  #printing the introduction. I did several print statements so the user can clearly see the introduction \n",
        "  print('This is the first output of my fourth program, Helen Zhang')\n",
        "  print('')\n",
        "  print('the program will determine if the three scores given are valid. if the scores are valid, the main function will')\n",
        "  print('call other functions to classify the scores in various ways. The program will compare the scores to each other and round the ')\n",
        "  print('score to the nearest 10')\n",
        "  print('')\n",
        "  print('')"
      ],
      "metadata": {
        "id": "IbXB_Pk20m-a"
      },
      "execution_count": null,
      "outputs": []
    },
    {
      "cell_type": "code",
      "source": [
        "def aretheyvalid(scores,a,b,c):\n",
        "  #print the test number and scores\n",
        "  print(f'{scores} : {a,b,c}')\n",
        "  x = [a,b,c]\n",
        "  #iterate through the loop to show invalid scores to user\n",
        "  #using boolean variables to indicate true + false for the main function\n",
        "  for value in x:\n",
        "    if value < 0:\n",
        "      print('invalid set of scores because score is too low')\n",
        "      print('')\n",
        "      print('')\n",
        "      return False\n",
        "    elif value > 100:\n",
        "      print('invalid set of scores because score is too high')\n",
        "      print('')\n",
        "      print('')\n",
        "      return False\n",
        "    else:\n",
        "      print('this is a valid set of scores')\n",
        "      return True"
      ],
      "metadata": {
        "id": "HO9HhwgM04WH"
      },
      "execution_count": null,
      "outputs": []
    },
    {
      "cell_type": "code",
      "source": [
        "def aretheythesame(a,b,c):\n",
        "  #value a = value b = value c would indicate all values are similar \n",
        "  if a == b and b == c: \n",
        "    print('all three numbers are the same')\n",
        "  else: \n",
        "    print('all three numbers are different')\n",
        "  #two values have to be the same and one value is different (greater or less than)\n",
        "  if (a == b and c > a) or (a == c and b > a) or (b == c and a > b):\n",
        "    print('two numbers are the same and the third is larger')\n",
        "  if (a == b and c < a) or (a == c and b < a) or (b == c and a < b):\n",
        "    print('two numbers are the same and the third is smaller')\n"
      ],
      "metadata": {
        "id": "t0PjzaUxfBSp"
      },
      "execution_count": null,
      "outputs": []
    },
    {
      "cell_type": "code",
      "source": [
        "def roundscore(a,b,c):\n",
        "  #rounding all scores to the nearest 10\n",
        "  for value in ([a,b,c]):\n",
        "    rounded = round(value / 10) * 10\n",
        "    print(f'the rounded number for {value} is {rounded}')\n",
        "  #giving space after each list of tests are output\n",
        "  print()\n",
        "  print()"
      ],
      "metadata": {
        "id": "agGtCaLpLIN4"
      },
      "execution_count": null,
      "outputs": []
    },
    {
      "cell_type": "code",
      "source": [
        "#import pandas library because I am using a csv file\n",
        "import pandas as pd \n",
        "def main():\n",
        "  introduction()\n",
        "  #upload cvs file attached to this project labeled \"Program 4 Scores.csv\"\n",
        "  df = pd.read_csv('/content/Program 4 Scores.csv', header=None)\n",
        "  #incidating all the columns that go with the rows\n",
        "  for index, rows in df.iterrows():\n",
        "    scores = rows.to_list()\n",
        "\n",
        "    scorenumber = scores[0]\n",
        "\n",
        "    score1 = scores[1]\n",
        "\n",
        "    score2 = scores[2]\n",
        "\n",
        "    score3 = scores[3]\n",
        "    \n",
        "  #call the function and pass the scores\n",
        "    result = aretheyvalid(scorenumber, score1, score2,score3)\n",
        "    #if scores are not valid, the other two functions will not pass \n",
        "    if result:\n",
        "      aretheythesame(score1, score2,score3)\n",
        "      roundscore(score1, score2, score3)\n",
        "\n",
        "\n",
        "main()"
      ],
      "metadata": {
        "id": "vhH4Hnix0wAy",
        "colab": {
          "base_uri": "https://localhost:8080/"
        },
        "outputId": "54b9f019-5c5a-4b56-fba0-5a8f341ae45b"
      },
      "execution_count": null,
      "outputs": [
        {
          "output_type": "stream",
          "name": "stdout",
          "text": [
            "This is the first output of my fourth program, Helen Zhang\n",
            "\n",
            "the program will determine if the three scores given are valid. if the scores are valid, the main function will\n",
            "call other functions to classify the scores in various ways. The program will compare the scores to each other and round the \n",
            "score to the nearest 10\n",
            "\n",
            "\n",
            "Test 1 : (75, 50, 77)\n",
            "this is a valid set of scores\n",
            "all three numbers are different\n",
            "the rounded number for 75 is 80\n",
            "the rounded number for 50 is 50\n",
            "the rounded number for 77 is 80\n",
            "\n",
            "\n",
            "Test 2 : (85, 98, 88)\n",
            "this is a valid set of scores\n",
            "all three numbers are different\n",
            "the rounded number for 85 is 80\n",
            "the rounded number for 98 is 100\n",
            "the rounded number for 88 is 90\n",
            "\n",
            "\n",
            "Test 3 : (36, 76, 99)\n",
            "this is a valid set of scores\n",
            "all three numbers are different\n",
            "the rounded number for 36 is 40\n",
            "the rounded number for 76 is 80\n",
            "the rounded number for 99 is 100\n",
            "\n",
            "\n",
            "Test 4 : (78, 79, 100)\n",
            "this is a valid set of scores\n",
            "all three numbers are different\n",
            "the rounded number for 78 is 80\n",
            "the rounded number for 79 is 80\n",
            "the rounded number for 100 is 100\n",
            "\n",
            "\n",
            "Test 5 : (45, 88, 56)\n",
            "this is a valid set of scores\n",
            "all three numbers are different\n",
            "the rounded number for 45 is 40\n",
            "the rounded number for 88 is 90\n",
            "the rounded number for 56 is 60\n",
            "\n",
            "\n",
            "Test 6 : (-2, 110, 78)\n",
            "invalid set of scores because score is too low\n",
            "\n",
            "\n",
            "Test 7 : (56, 45, 45)\n",
            "this is a valid set of scores\n",
            "all three numbers are different\n",
            "two numbers are the same and the third is larger\n",
            "the rounded number for 56 is 60\n",
            "the rounded number for 45 is 40\n",
            "the rounded number for 45 is 40\n",
            "\n",
            "\n",
            "Test 8 : (-84, 110, 76)\n",
            "invalid set of scores because score is too low\n",
            "\n",
            "\n",
            "Test 9 : (6, 100, 17)\n",
            "this is a valid set of scores\n",
            "all three numbers are different\n",
            "the rounded number for 6 is 10\n",
            "the rounded number for 100 is 100\n",
            "the rounded number for 17 is 20\n",
            "\n",
            "\n",
            "Test 10 : (45, 95, 76)\n",
            "this is a valid set of scores\n",
            "all three numbers are different\n",
            "the rounded number for 45 is 40\n",
            "the rounded number for 95 is 100\n",
            "the rounded number for 76 is 80\n",
            "\n",
            "\n",
            "Test 11 : (98, 67, 86)\n",
            "this is a valid set of scores\n",
            "all three numbers are different\n",
            "the rounded number for 98 is 100\n",
            "the rounded number for 67 is 70\n",
            "the rounded number for 86 is 90\n",
            "\n",
            "\n",
            "Test 12 : (67, 87, 76)\n",
            "this is a valid set of scores\n",
            "all three numbers are different\n",
            "the rounded number for 67 is 70\n",
            "the rounded number for 87 is 90\n",
            "the rounded number for 76 is 80\n",
            "\n",
            "\n",
            "Test 13 : (100, 0, 45)\n",
            "this is a valid set of scores\n",
            "all three numbers are different\n",
            "the rounded number for 100 is 100\n",
            "the rounded number for 0 is 0\n",
            "the rounded number for 45 is 40\n",
            "\n",
            "\n",
            "Test 14 : (37, 67, 86)\n",
            "this is a valid set of scores\n",
            "all three numbers are different\n",
            "the rounded number for 37 is 40\n",
            "the rounded number for 67 is 70\n",
            "the rounded number for 86 is 90\n",
            "\n",
            "\n",
            "Test 15 : (87, 80, 82)\n",
            "this is a valid set of scores\n",
            "all three numbers are different\n",
            "the rounded number for 87 is 90\n",
            "the rounded number for 80 is 80\n",
            "the rounded number for 82 is 80\n",
            "\n",
            "\n",
            "Test 16 : (115, 81, 97)\n",
            "invalid set of scores because score is too high\n",
            "\n",
            "\n",
            "Test 17 : (67, 82, 93)\n",
            "this is a valid set of scores\n",
            "all three numbers are different\n",
            "the rounded number for 67 is 70\n",
            "the rounded number for 82 is 80\n",
            "the rounded number for 93 is 90\n",
            "\n",
            "\n",
            "Test 18 : (34, 83, 100)\n",
            "this is a valid set of scores\n",
            "all three numbers are different\n",
            "the rounded number for 34 is 30\n",
            "the rounded number for 83 is 80\n",
            "the rounded number for 100 is 100\n",
            "\n",
            "\n",
            "Test 19 : (43, 76, 70)\n",
            "this is a valid set of scores\n",
            "all three numbers are different\n",
            "the rounded number for 43 is 40\n",
            "the rounded number for 76 is 80\n",
            "the rounded number for 70 is 70\n",
            "\n",
            "\n",
            "Test 20 : (67, 45, 0)\n",
            "this is a valid set of scores\n",
            "all three numbers are different\n",
            "the rounded number for 67 is 70\n",
            "the rounded number for 45 is 40\n",
            "the rounded number for 0 is 0\n",
            "\n",
            "\n"
          ]
        }
      ]
    },
    {
      "cell_type": "code",
      "source": [
        "#PROGRAM 5"
      ],
      "metadata": {
        "id": "MxWGBUU_1Gyl"
      },
      "execution_count": null,
      "outputs": []
    },
    {
      "cell_type": "code",
      "execution_count": null,
      "metadata": {
        "id": "jm63KtdOHFrU"
      },
      "outputs": [],
      "source": [
        "def introduction():\n",
        "  print('This is the first output of my fifth program, Helen Zhang')"
      ]
    },
    {
      "cell_type": "code",
      "source": [
        "#what parameters should be set?\n",
        "def readorigionaldate():\n",
        "  dates = ['10/14/15', '12/20/01', '1/7/23', '4/23/01', '5/18/02', '12/5/20', '7/23/06', '5/30/19', '9/6/18', '4/21/17'] \n",
        "  return dates"
      ],
      "metadata": {
        "id": "SdtTf3mWcaCG"
      },
      "execution_count": null,
      "outputs": []
    },
    {
      "cell_type": "code",
      "source": [
        "def breakoriginaldate(date):\n",
        "  for values in date:\n",
        "    #print(f'{values} is the original date')\n",
        "    sep = values.split('/')\n",
        "    month = sep[0]\n",
        "    day = sep[1]\n",
        "    year = sep[2]\n",
        "    #print(f'the month is {month}    the day is {day}    the year is {year}')\n",
        "  return month, day, year"
      ],
      "metadata": {
        "id": "M1Zs1zFjcgm7"
      },
      "execution_count": null,
      "outputs": []
    },
    {
      "cell_type": "code",
      "source": [
        "def printdate3ways(dates, month, day, year):\n",
        "  for values in dates: \n",
        "    print(f'{values} is the origional date')\n",
        "    sep = values.split('/')\n",
        "    month = sep[0]\n",
        "    day = sep[1]\n",
        "    year = sep[2]\n",
        "    print(f'the month is {month}    the day is {day}    the year is {year}')\n",
        "    euro = f'{month} - {day} - {year}'\n",
        "\n",
        "    months = {    '1' : 'January',\n",
        "                  '2' : 'Feb',\n",
        "                  '3' : 'Mar',\n",
        "                  '4' : 'April',\n",
        "                  '5' : 'May',\n",
        "                  '6' : 'June',\n",
        "                  '7' : 'July',\n",
        "                  '8' : 'Aug',\n",
        "                  '9' : 'Sept',\n",
        "                  '10' : 'Oct',\n",
        "                  '11' : 'Nov',\n",
        "                  '12' : 'Dec'\n",
        "                  }\n",
        "    american = f'{months[month]} {day}, 20{year}'\n",
        "\n",
        "    if len(month) < 2:\n",
        "      full = f'0{month} - {day} - 20{year}'\n",
        "    else:\n",
        "      full = f'{month} - {day} - 20{year}'\n",
        "\n",
        "    print(f'{euro} is the European way of printing')\n",
        "    print(f'{american} is the American way of printing')\n",
        "    print(f'{full} is the full way of printing')\n",
        "\n",
        "    print()\n",
        "    print()"
      ],
      "metadata": {
        "id": "38ffGYXLCGYr"
      },
      "execution_count": null,
      "outputs": []
    },
    {
      "cell_type": "code",
      "source": [
        "def main():\n",
        "  introduction()\n",
        "  dates = readorigionaldate()\n",
        "  m,d,y = breakoriginaldate(dates)\n",
        "  printdate3ways(dates, m,d,y)\n",
        "main()\n"
      ],
      "metadata": {
        "colab": {
          "base_uri": "https://localhost:8080/"
        },
        "id": "fO6EiOYMcV6B",
        "outputId": "1f970352-2f7a-40ce-e595-e534ad13b54d"
      },
      "execution_count": null,
      "outputs": [
        {
          "output_type": "stream",
          "name": "stdout",
          "text": [
            "This is the first output of my fifth program, Helen Zhang\n",
            "10/14/15 is the origional date\n",
            "the month is 10    the day is 14    the year is 15\n",
            "10 - 14 - 15 is the European way of printing\n",
            "Oct 14, 2015 is the American way of printing\n",
            "10 - 14 - 2015 is the full way of printing\n",
            "\n",
            "\n",
            "12/20/01 is the origional date\n",
            "the month is 12    the day is 20    the year is 01\n",
            "12 - 20 - 01 is the European way of printing\n",
            "Dec 20, 2001 is the American way of printing\n",
            "12 - 20 - 2001 is the full way of printing\n",
            "\n",
            "\n",
            "1/7/23 is the origional date\n",
            "the month is 1    the day is 7    the year is 23\n",
            "1 - 7 - 23 is the European way of printing\n",
            "January 7, 2023 is the American way of printing\n",
            "01 - 7 - 2023 is the full way of printing\n",
            "\n",
            "\n",
            "4/23/01 is the origional date\n",
            "the month is 4    the day is 23    the year is 01\n",
            "4 - 23 - 01 is the European way of printing\n",
            "April 23, 2001 is the American way of printing\n",
            "04 - 23 - 2001 is the full way of printing\n",
            "\n",
            "\n",
            "5/18/02 is the origional date\n",
            "the month is 5    the day is 18    the year is 02\n",
            "5 - 18 - 02 is the European way of printing\n",
            "May 18, 2002 is the American way of printing\n",
            "05 - 18 - 2002 is the full way of printing\n",
            "\n",
            "\n",
            "12/5/20 is the origional date\n",
            "the month is 12    the day is 5    the year is 20\n",
            "12 - 5 - 20 is the European way of printing\n",
            "Dec 5, 2020 is the American way of printing\n",
            "12 - 5 - 2020 is the full way of printing\n",
            "\n",
            "\n",
            "7/23/06 is the origional date\n",
            "the month is 7    the day is 23    the year is 06\n",
            "7 - 23 - 06 is the European way of printing\n",
            "July 23, 2006 is the American way of printing\n",
            "07 - 23 - 2006 is the full way of printing\n",
            "\n",
            "\n",
            "5/30/19 is the origional date\n",
            "the month is 5    the day is 30    the year is 19\n",
            "5 - 30 - 19 is the European way of printing\n",
            "May 30, 2019 is the American way of printing\n",
            "05 - 30 - 2019 is the full way of printing\n",
            "\n",
            "\n",
            "9/6/18 is the origional date\n",
            "the month is 9    the day is 6    the year is 18\n",
            "9 - 6 - 18 is the European way of printing\n",
            "Sept 6, 2018 is the American way of printing\n",
            "09 - 6 - 2018 is the full way of printing\n",
            "\n",
            "\n",
            "4/21/17 is the origional date\n",
            "the month is 4    the day is 21    the year is 17\n",
            "4 - 21 - 17 is the European way of printing\n",
            "April 21, 2017 is the American way of printing\n",
            "04 - 21 - 2017 is the full way of printing\n",
            "\n",
            "\n"
          ]
        }
      ]
    }
  ]
}